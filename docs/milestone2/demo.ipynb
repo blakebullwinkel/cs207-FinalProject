{
 "cells": [
  {
   "cell_type": "markdown",
   "metadata": {},
   "source": [
    "# Milestone 2 Demo: Group 11"
   ]
  },
  {
   "cell_type": "markdown",
   "metadata": {},
   "source": [
    "To make it more interactive to understand how to use our package, we provide this demo part to show how our module works. Every cell can be run by yourself and feel free to change the function to your own interest!"
   ]
  },
  {
   "cell_type": "markdown",
   "metadata": {},
   "source": [
    "First of all, we need to import our packages:"
   ]
  },
  {
   "cell_type": "code",
   "execution_count": 1,
   "metadata": {},
   "outputs": [],
   "source": [
    "import os\n",
    "import sys\n",
    "module_path = os.path.join(os.path.abspath('../../'))\n",
    "if module_path not in sys.path:\n",
    "    sys.path.append(module_path)"
   ]
  },
  {
   "cell_type": "code",
   "execution_count": 2,
   "metadata": {},
   "outputs": [],
   "source": [
    "from AutoDiff import AutoDiff as AD\n",
    "from AutoDiff import BasicMath"
   ]
  },
  {
   "cell_type": "markdown",
   "metadata": {},
   "source": [
    "Then, we can make use of the `auto_diff` method in our `ad` class to compute the nominal value and the derivative of the function you care about at a specific evaluation point and order. \n",
    "\n",
    "`auto_diff` method has 3 augments:\n",
    "- (1) function: the function of your interest.\n",
    "- (2) eval_point: the point at which you want to compute at.\n",
    "- (3) order: the order of the derivative you want to compute and its default is 1; unfortunately, our package only supports the first order derivative for now.\n",
    "\n",
    "Let's define our demo function first!"
   ]
  },
  {
   "cell_type": "markdown",
   "metadata": {},
   "source": [
    "**(1) Define the function:**\n",
    "\n",
    "We can start from a simple function:\n",
    "$$f(x)=x^3+1$$\n",
    "\n",
    "There are many ways for you to define the function.\n",
    "\n",
    "For example, you can either write your own function like as below:"
   ]
  },
  {
   "cell_type": "code",
   "execution_count": 3,
   "metadata": {},
   "outputs": [],
   "source": [
    "def func(x):\n",
    "    return x**3 + 1"
   ]
  },
  {
   "cell_type": "markdown",
   "metadata": {},
   "source": [
    "Or you can write it as a lambda function like this:"
   ]
  },
  {
   "cell_type": "code",
   "execution_count": 4,
   "metadata": {},
   "outputs": [],
   "source": [
    "func = lambda x: x**3 + 1"
   ]
  },
  {
   "cell_type": "markdown",
   "metadata": {},
   "source": [
    "Both work perfectly in our packages. "
   ]
  },
  {
   "cell_type": "markdown",
   "metadata": {},
   "source": [
    "**(2) Define the evaluation point:**\n",
    "\n",
    "Then you have to define the point you want to evaluate at.\n",
    "\n",
    "For example, we want to choose $x=1$ as our evaluation point and we can use the code below:"
   ]
  },
  {
   "cell_type": "code",
   "execution_count": 5,
   "metadata": {},
   "outputs": [],
   "source": [
    "x = AD.Variable(1, name='x')"
   ]
  },
  {
   "cell_type": "markdown",
   "metadata": {},
   "source": [
    "**(3) Define the order:**\n",
    "\n",
    "For now we can only support the first order derivative. Since the default for this is 1, there is no need for you to further define it. But for future use, as our package is going to have high order differentiation, you can define the order to your own interest."
   ]
  },
  {
   "cell_type": "markdown",
   "metadata": {},
   "source": [
    "**You can get the value and derivative for our function now!**"
   ]
  },
  {
   "cell_type": "code",
   "execution_count": 6,
   "metadata": {},
   "outputs": [],
   "source": [
    "ad = AD.Diff()\n",
    "t = ad.auto_diff(function = func, eval_point = [x], order = 1)"
   ]
  },
  {
   "cell_type": "markdown",
   "metadata": {},
   "source": [
    "t here is a DualNumber class object. You can see the nominal value of the function by calling the attribute `val` and see the derivative by calling the attribute `der`."
   ]
  },
  {
   "cell_type": "code",
   "execution_count": 7,
   "metadata": {},
   "outputs": [
    {
     "name": "stdout",
     "output_type": "stream",
     "text": [
      "The nominal value of our function is 2\n",
      "The derivative is 3.0\n"
     ]
    }
   ],
   "source": [
    "print('The nominal value of our function is {}'.format(t.val))\n",
    "print('The derivative is {}'.format(t.der['x']))"
   ]
  },
  {
   "cell_type": "markdown",
   "metadata": {},
   "source": [
    "**Now it's your time to change the function to whatever you want and get the value and derivative you want using the complete code below:**"
   ]
  },
  {
   "cell_type": "code",
   "execution_count": null,
   "metadata": {},
   "outputs": [],
   "source": []
  }
 ],
 "metadata": {
  "kernelspec": {
   "display_name": "Python 3",
   "language": "python",
   "name": "python3"
  },
  "language_info": {
   "codemirror_mode": {
    "name": "ipython",
    "version": 3
   },
   "file_extension": ".py",
   "mimetype": "text/x-python",
   "name": "python",
   "nbconvert_exporter": "python",
   "pygments_lexer": "ipython3",
   "version": "3.6.6"
  }
 },
 "nbformat": 4,
 "nbformat_minor": 2
}
