{
 "cells": [
  {
   "cell_type": "markdown",
   "metadata": {},
   "source": [
    "# Demo for `Newton_fractal`: Group 11"
   ]
  },
  {
   "cell_type": "markdown",
   "metadata": {},
   "source": [
    "Welcome to use our package for Newton fractal! We are here to provide you to the magic and beauty of Math.\n",
    "\n",
    "`Newton_fractal` is very user-friendly, as we've created the Graphical User Interface for the users to interact with. In this notebook, we will cover the basic instructions for this package."
   ]
  },
  {
   "cell_type": "markdown",
   "metadata": {},
   "source": [
    "Open the package, you will see a interface like this:"
   ]
  },
  {
   "cell_type": "markdown",
   "metadata": {},
   "source": [
    "![title](Figures/Interface.png)"
   ]
  },
  {
   "cell_type": "markdown",
   "metadata": {},
   "source": [
    "In this interface, you can see 3 entries and 3 buttons:\n",
    "\n",
    "For the 3 entries:\n",
    "+ Input Equation: You can enter any function of your interest that we are going to calculate the derivative on.\n",
    "+ Image Size: You can set the number for the pixels. The higher the number is, the higher the resolution is, and the longer you have to wait to see your final fractal output.\n",
    "+ Image Name: You can set the name for your output figure.\n",
    "\n",
    "For the three buttons:\n",
    "+ Click `Run` to generate the image. You can see a recent progress of the generating process and the estimated remaining time.\n",
    "+ Click `Show Image`, you can see the image you've recently created.\n",
    "+ Click `Show Gradient`, you can see the animation of the process finding the root in Newton's Methods from several starting points. \n",
    "\n",
    "#### We can use the function $f(x)=x^{6}-1$ as an example."
   ]
  },
  {
   "cell_type": "markdown",
   "metadata": {},
   "source": [
    "Firstly, we can enter the function, image size and image name we want. Then we can see the process of recent progress and the estimated remaining time."
   ]
  },
  {
   "cell_type": "markdown",
   "metadata": {},
   "source": [
    "![title](Figures/progress.png)"
   ]
  },
  {
   "cell_type": "markdown",
   "metadata": {},
   "source": [
    "After completing the process, you can see the plot you've created."
   ]
  },
  {
   "cell_type": "markdown",
   "metadata": {},
   "source": [
    "![title](Figures/demo.png)"
   ]
  },
  {
   "cell_type": "markdown",
   "metadata": {},
   "source": [
    "In the plot above, we notice that there are different colors, and within different colors, we also see deeper and lighter colors:\n",
    "\n",
    "+ If an area is of the same color, that means that starting from this area, it will converge to an same root at the end. If the color is black, it indicates that our root finding process will not converge when starting from this area.\n",
    "\n",
    "+ Within a single color, the deeper the color is, the more steps we need to converge to the final root."
   ]
  },
  {
   "cell_type": "markdown",
   "metadata": {},
   "source": [
    "Now you've got your beautiful fractal picture. When you zoom the picture, you will find the similar pattern repeating as the whole picture."
   ]
  },
  {
   "cell_type": "markdown",
   "metadata": {},
   "source": [
    "![SegmentLocal](Figures/fractal.gif)"
   ]
  },
  {
   "cell_type": "markdown",
   "metadata": {},
   "source": [
    "When clicking the `show gradient` button, we can see the animation of finding the root. The lines show the path of each step and the arrow shows the direction."
   ]
  },
  {
   "cell_type": "markdown",
   "metadata": {},
   "source": [
    "![SegmentLocal](Figures/animation_cleaned.gif)"
   ]
  },
  {
   "cell_type": "markdown",
   "metadata": {},
   "source": [
    "Feel free to explore the package by yourself ~"
   ]
  }
 ],
 "metadata": {
  "kernelspec": {
   "display_name": "Python 3",
   "language": "python",
   "name": "python3"
  },
  "language_info": {
   "codemirror_mode": {
    "name": "ipython",
    "version": 3
   },
   "file_extension": ".py",
   "mimetype": "text/x-python",
   "name": "python",
   "nbconvert_exporter": "python",
   "pygments_lexer": "ipython3",
   "version": "3.6.6"
  }
 },
 "nbformat": 4,
 "nbformat_minor": 2
}
